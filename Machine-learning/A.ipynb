{
 "cells": [
  {
   "cell_type": "code",
   "execution_count": 2,
   "metadata": {
    "collapsed": true
   },
   "outputs": [],
   "source": [
    "import pandas as pd\n",
    "data = pd.read_json(\n",
    "    'C:\\\\Users\\\\uiqko\\\\GoogleDrive\\\\code\\\\python\\\\yandex-cup-2020\\\\Machine-learning\\\\benjamin_dataset.json',\n",
    "    orient='records'\n",
    ")\n",
    "X, y = data.drop('label', axis=1), data['label']"
   ]
  },
  {
   "cell_type": "code",
   "execution_count": 3,
   "outputs": [
    {
     "data": {
      "text/plain": "VarianceThreshold(threshold=0.15999999999999998)"
     },
     "execution_count": 3,
     "metadata": {},
     "output_type": "execute_result"
    }
   ],
   "source": [
    "from sklearn.feature_selection import VarianceThreshold\n",
    "selector = VarianceThreshold(threshold=(.8 * (1 - .8)))\n",
    "selector.fit(X, y)"
   ],
   "metadata": {
    "collapsed": false,
    "pycharm": {
     "name": "#%%\n"
    }
   }
  },
  {
   "cell_type": "code",
   "execution_count": 4,
   "outputs": [],
   "source": [
    "# selector.variances_\n",
    "# selector.variances_[selector.variances_ > 1]\n",
    "# selector.variances_ > 1"
   ],
   "metadata": {
    "collapsed": false,
    "pycharm": {
     "name": "#%%\n"
    }
   }
  },
  {
   "cell_type": "code",
   "execution_count": 5,
   "outputs": [
    {
     "name": "stdout",
     "output_type": "stream",
     "text": [
      "84\n",
      "372\n",
      "476\n",
      "384\n",
      "206\n",
      "101\n",
      "293\n",
      "76\n",
      "282\n",
      "441\n",
      "184\n",
      "241\n",
      "105\n",
      "298\n",
      "478\n",
      "164\n",
      "259\n",
      "58\n",
      "424\n",
      "408\n",
      "5\n",
      "128\n",
      "306\n",
      "173\n",
      "499\n",
      "481\n",
      "323\n",
      "47\n",
      "114\n",
      "496\n",
      "353\n",
      "140\n",
      "231\n",
      "73\n",
      "221\n",
      "335\n",
      "72\n",
      "100\n",
      "167\n",
      "155\n",
      "117\n",
      "131\n",
      "438\n",
      "466\n",
      "343\n",
      "330\n",
      "107\n",
      "327\n",
      "311\n",
      "303\n",
      "316\n",
      "307\n",
      "388\n",
      "429\n",
      "386\n",
      "301\n",
      "11\n",
      "490\n",
      "475\n",
      "464\n",
      "176\n",
      "146\n",
      "54\n",
      "36\n",
      "256\n",
      "458\n",
      "98\n",
      "218\n",
      "42\n",
      "9\n",
      "215\n",
      "428\n",
      "410\n",
      "447\n",
      "151\n",
      "106\n",
      "45\n",
      "275\n",
      "365\n",
      "158\n",
      "244\n",
      "396\n",
      "143\n",
      "205\n",
      "489\n",
      "359\n",
      "138\n",
      "169\n",
      "364\n",
      "488\n",
      "497\n",
      "485\n",
      "228\n",
      "326\n",
      "50\n",
      "469\n",
      "25\n",
      "224\n",
      "432\n",
      "288\n"
     ]
    }
   ],
   "source": [
    "res = [(i, selector.variances_[i]) for i in range(len(selector.variances_))]\n",
    "res.sort(reverse=True, key=lambda tup: tup[1])\n",
    "for score in res[:100]:\n",
    "    print(score[0])"
   ],
   "metadata": {
    "collapsed": false,
    "pycharm": {
     "name": "#%%\n"
    }
   }
  },
  {
   "cell_type": "code",
   "execution_count": 6,
   "outputs": [
    {
     "data": {
      "text/plain": "SelectKBest(k=100, score_func=<function chi2 at 0x0000020382954550>)"
     },
     "execution_count": 6,
     "metadata": {},
     "output_type": "execute_result"
    }
   ],
   "source": [
    "from sklearn.feature_selection import SelectKBest\n",
    "from sklearn.feature_selection import chi2\n",
    "import numpy as np\n",
    "\n",
    "selector = SelectKBest(chi2, k=100)\n",
    "# X.fillna(method='mean', inplace=True)\n",
    "X.fillna(X.mean(), inplace=True)\n",
    "selector.fit(X, y)"
   ],
   "metadata": {
    "collapsed": false,
    "pycharm": {
     "name": "#%%\n"
    }
   }
  },
  {
   "cell_type": "code",
   "execution_count": 7,
   "outputs": [
    {
     "name": "stdout",
     "output_type": "stream",
     "text": [
      "84\n",
      "5\n",
      "496\n",
      "114\n",
      "481\n",
      "128\n",
      "306\n",
      "173\n",
      "47\n",
      "499\n",
      "408\n",
      "353\n",
      "323\n",
      "221\n",
      "231\n",
      "73\n",
      "335\n",
      "100\n",
      "167\n",
      "155\n",
      "117\n",
      "72\n",
      "131\n",
      "140\n",
      "184\n",
      "101\n",
      "441\n",
      "76\n",
      "293\n",
      "282\n",
      "105\n",
      "241\n",
      "58\n",
      "164\n",
      "478\n",
      "259\n",
      "298\n",
      "327\n",
      "424\n",
      "275\n",
      "365\n",
      "428\n",
      "45\n",
      "151\n",
      "138\n",
      "169\n",
      "106\n",
      "158\n",
      "410\n",
      "206\n",
      "63\n",
      "417\n",
      "162\n",
      "330\n",
      "15\n",
      "393\n",
      "430\n",
      "223\n",
      "220\n",
      "422\n",
      "480\n",
      "468\n",
      "382\n",
      "415\n",
      "134\n",
      "95\n",
      "339\n",
      "250\n",
      "374\n",
      "93\n",
      "473\n",
      "125\n",
      "86\n",
      "102\n",
      "111\n",
      "483\n",
      "80\n",
      "79\n",
      "487\n",
      "142\n",
      "207\n",
      "189\n",
      "199\n",
      "139\n",
      "110\n",
      "202\n",
      "24\n",
      "350\n",
      "379\n",
      "403\n",
      "389\n",
      "57\n",
      "12\n",
      "210\n",
      "203\n",
      "360\n",
      "130\n",
      "313\n",
      "23\n",
      "20\n"
     ]
    }
   ],
   "source": [
    "res = [(i, selector.scores_[i]) for i in range(len(selector.scores_))]\n",
    "res.sort(reverse=True, key=lambda tup: tup[1])\n",
    "for score in res[:100]:\n",
    "    print(score[0])"
   ],
   "metadata": {
    "collapsed": false,
    "pycharm": {
     "name": "#%%\n"
    }
   }
  },
  {
   "cell_type": "code",
   "execution_count": 8,
   "outputs": [
    {
     "name": "stderr",
     "output_type": "stream",
     "text": [
      "C:\\Users\\uiqko\\anaconda3\\envs\\mint\\lib\\site-packages\\sklearn\\linear_model\\_coordinate_descent.py:529: ConvergenceWarning: Objective did not converge. You might want to increase the number of iterations. Duality gap: 518.9786338759595, tolerance: 0.3747129562405087\n",
      "  model = cd_fast.enet_coordinate_descent(\n"
     ]
    },
    {
     "data": {
      "text/plain": "Lasso(alpha=0.001)"
     },
     "execution_count": 8,
     "metadata": {},
     "output_type": "execute_result"
    }
   ],
   "source": [
    "from sklearn.linear_model import Lasso\n",
    "clf = Lasso(alpha=0.001)\n",
    "clf.fit(X, y)"
   ],
   "metadata": {
    "collapsed": false,
    "pycharm": {
     "name": "#%%\n"
    }
   }
  },
  {
   "cell_type": "code",
   "execution_count": 9,
   "outputs": [],
   "source": [
    "def print_scores(scores):\n",
    "    res = [(i, scores[i]) for i in range(len(scores))]\n",
    "    res.sort(reverse=True, key=lambda tup: tup[1])\n",
    "    for score in res[:100]:\n",
    "        print(score[0])"
   ],
   "metadata": {
    "collapsed": false,
    "pycharm": {
     "name": "#%%\n"
    }
   }
  },
  {
   "cell_type": "code",
   "execution_count": 10,
   "outputs": [
    {
     "name": "stdout",
     "output_type": "stream",
     "text": [
      "52\n",
      "100\n",
      "156\n",
      "139\n",
      "60\n",
      "92\n",
      "18\n",
      "48\n",
      "27\n",
      "102\n",
      "101\n",
      "109\n",
      "150\n",
      "141\n",
      "54\n",
      "127\n",
      "96\n",
      "24\n",
      "28\n",
      "82\n",
      "22\n",
      "36\n",
      "105\n",
      "148\n",
      "32\n",
      "5\n",
      "170\n",
      "15\n",
      "35\n",
      "117\n",
      "174\n",
      "114\n",
      "111\n",
      "147\n",
      "161\n",
      "137\n",
      "16\n",
      "70\n",
      "163\n",
      "69\n",
      "49\n",
      "171\n",
      "47\n",
      "86\n",
      "135\n",
      "53\n",
      "107\n",
      "182\n",
      "66\n",
      "2\n",
      "34\n",
      "29\n",
      "39\n",
      "112\n",
      "185\n",
      "120\n",
      "77\n",
      "149\n",
      "99\n",
      "142\n",
      "152\n",
      "74\n",
      "14\n",
      "71\n",
      "91\n",
      "144\n",
      "78\n",
      "133\n",
      "20\n",
      "87\n",
      "188\n",
      "140\n",
      "79\n",
      "88\n",
      "73\n",
      "45\n",
      "33\n",
      "162\n",
      "90\n",
      "157\n",
      "9\n",
      "167\n",
      "143\n",
      "12\n",
      "158\n",
      "76\n",
      "183\n",
      "146\n",
      "129\n",
      "94\n",
      "11\n",
      "58\n",
      "7\n",
      "21\n",
      "26\n",
      "98\n",
      "190\n",
      "151\n",
      "4\n",
      "43\n"
     ]
    }
   ],
   "source": [
    "print_scores(clf.coef_[clf.coef_ != 0])"
   ],
   "metadata": {
    "collapsed": false,
    "pycharm": {
     "name": "#%%\n"
    }
   }
  },
  {
   "cell_type": "code",
   "execution_count": 11,
   "outputs": [
    {
     "name": "stdout",
     "output_type": "stream",
     "text": [
      "220\n",
      "417\n",
      "255\n",
      "480\n",
      "156\n",
      "137\n",
      "193\n",
      "442\n",
      "134\n",
      "257\n",
      "373\n",
      "402\n",
      "266\n",
      "35\n",
      "197\n",
      "327\n",
      "309\n",
      "323\n",
      "162\n",
      "105\n",
      "5\n",
      "109\n",
      "428\n",
      "79\n",
      "496\n",
      "424\n",
      "473\n",
      "181\n",
      "393\n",
      "45\n",
      "403\n",
      "483\n",
      "114\n",
      "142\n",
      "169\n",
      "241\n",
      "110\n",
      "86\n",
      "221\n",
      "128\n",
      "47\n",
      "140\n",
      "298\n",
      "151\n",
      "138\n",
      "360\n",
      "365\n",
      "125\n",
      "106\n",
      "12\n",
      "100\n",
      "215\n",
      "374\n",
      "15\n",
      "231\n",
      "399\n",
      "408\n",
      "84\n",
      "306\n",
      "131\n",
      "481\n",
      "499\n",
      "173\n",
      "379\n",
      "167\n",
      "410\n",
      "158\n",
      "338\n",
      "73\n",
      "102\n",
      "389\n",
      "275\n",
      "223\n",
      "351\n",
      "202\n",
      "230\n",
      "210\n",
      "318\n",
      "155\n",
      "382\n",
      "335\n",
      "117\n",
      "72\n",
      "353\n",
      "339\n",
      "239\n",
      "207\n",
      "63\n",
      "182\n",
      "455\n",
      "130\n",
      "425\n",
      "453\n",
      "104\n",
      "422\n",
      "290\n",
      "95\n",
      "139\n",
      "212\n",
      "276\n"
     ]
    }
   ],
   "source": [
    "from sklearn.feature_selection import mutual_info_classif\n",
    "selector = SelectKBest(mutual_info_classif, k=100)\n",
    "selector.fit(X, y)\n",
    "print_scores(selector.scores_)\n"
   ],
   "metadata": {
    "collapsed": false,
    "pycharm": {
     "name": "#%%\n"
    }
   }
  },
  {
   "cell_type": "code",
   "execution_count": 12,
   "outputs": [
    {
     "data": {
      "text/plain": "PCA()"
     },
     "execution_count": 12,
     "metadata": {},
     "output_type": "execute_result"
    }
   ],
   "source": [
    "from sklearn.decomposition import PCA\n",
    "pca = PCA()\n",
    "pca.fit(X, y)"
   ],
   "metadata": {
    "collapsed": false,
    "pycharm": {
     "name": "#%%\n"
    }
   }
  },
  {
   "cell_type": "code",
   "execution_count": 23,
   "outputs": [
    {
     "name": "stdout",
     "output_type": "stream",
     "text": [
      "0\n",
      "1\n",
      "2\n",
      "3\n",
      "4\n",
      "5\n",
      "6\n",
      "7\n",
      "8\n",
      "9\n",
      "10\n",
      "11\n",
      "12\n",
      "13\n",
      "14\n",
      "15\n",
      "16\n",
      "17\n",
      "18\n",
      "19\n",
      "20\n",
      "21\n",
      "22\n",
      "23\n",
      "24\n",
      "25\n",
      "26\n",
      "27\n",
      "28\n",
      "29\n",
      "30\n",
      "31\n",
      "32\n",
      "33\n",
      "34\n",
      "35\n",
      "36\n",
      "37\n",
      "38\n",
      "39\n",
      "40\n",
      "41\n",
      "42\n",
      "43\n",
      "44\n",
      "45\n",
      "46\n",
      "47\n",
      "48\n",
      "49\n",
      "50\n",
      "51\n",
      "52\n",
      "53\n",
      "54\n",
      "55\n",
      "56\n",
      "57\n",
      "58\n",
      "59\n",
      "60\n",
      "61\n",
      "62\n",
      "63\n",
      "64\n",
      "65\n",
      "66\n",
      "67\n",
      "68\n",
      "69\n",
      "70\n",
      "71\n",
      "72\n",
      "73\n",
      "74\n",
      "75\n",
      "76\n",
      "77\n",
      "78\n",
      "79\n",
      "80\n",
      "81\n",
      "82\n",
      "83\n",
      "84\n",
      "85\n",
      "86\n",
      "87\n",
      "88\n",
      "89\n",
      "90\n",
      "91\n",
      "92\n",
      "93\n",
      "94\n",
      "95\n",
      "96\n",
      "97\n",
      "98\n",
      "99\n"
     ]
    }
   ],
   "source": [
    "print_scores(pca.)\n",
    "# for c in [i for i, c in sorted(enumerate(pca.singular_values_), key=lambda t: t[1])][:100]:\n",
    "#     print(c)\n"
   ],
   "metadata": {
    "collapsed": false,
    "pycharm": {
     "name": "#%%\n"
    }
   }
  }
 ],
 "metadata": {
  "kernelspec": {
   "name": "pycharm-a82386e9",
   "language": "python",
   "display_name": "PyCharm (week3)"
  },
  "language_info": {
   "codemirror_mode": {
    "name": "ipython",
    "version": 2
   },
   "file_extension": ".py",
   "mimetype": "text/x-python",
   "name": "python",
   "nbconvert_exporter": "python",
   "pygments_lexer": "ipython2",
   "version": "2.7.6"
  }
 },
 "nbformat": 4,
 "nbformat_minor": 0
}